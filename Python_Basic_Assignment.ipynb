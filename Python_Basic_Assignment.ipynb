{
  "nbformat": 4,
  "nbformat_minor": 0,
  "metadata": {
    "colab": {
      "provenance": []
    },
    "kernelspec": {
      "name": "python3",
      "display_name": "Python 3"
    },
    "language_info": {
      "name": "python"
    }
  },
  "cells": [
    {
      "cell_type": "markdown",
      "source": [
        "## **THEORY QUESTIONS**\n"
      ],
      "metadata": {
        "id": "OJaUaym-SMCq"
      }
    },
    {
      "cell_type": "markdown",
      "source": [
        "**1. What is Python, and why is it popular ?**\n",
        "  - Python is a high-level, interpreted programming language known for its simplicity and readability. It supports multiple paradigms, including object-oriented and functional programming. Python is popular due to its clean syntax, large community, and vast libraries that simplify tasks in web development, data science, AI, and automation. Its versatility and ease of learning make it ideal for both beginners and professionals, fostering rapid development and problem-solving across industries.\n",
        "\n",
        "\n",
        "\n"
      ],
      "metadata": {
        "id": "QGoM9H_uSRlC"
      }
    },
    {
      "cell_type": "markdown",
      "source": [
        "**2. What is an interpreter in Python ?**\n",
        "  - An interpreter in Python is a program that reads and executes Python code line by line. Unlike compilers, which translate code all at once, the interpreter processes one statement at a time, making debugging easier. It converts high-level Python code into machine-readable instructions during runtime. This allows for immediate feedback and quick testing, which is ideal for development and learning."
      ],
      "metadata": {
        "id": "8IeBU8xzSKg7"
      }
    },
    {
      "cell_type": "markdown",
      "source": [
        "**3. What are pre-defined keywords in Python ?**\n",
        "  - Pre-defined keywords in Python are reserved words that have special meaning and are used to define the language’s syntax and structure. They cannot be used as variable names or identifiers.\n",
        "  - Examples include if, else, while, for, def, class, and return. These keywords control program flow, define functions, handle exceptions, and more.\n",
        "  \n",
        "  Python has a fixed set of keywords essential for writing valid and meaningful code."
      ],
      "metadata": {
        "id": "82w1_1hHU58x"
      }
    },
    {
      "cell_type": "markdown",
      "source": [
        "**4. Can keywords be used as variable names ?**\n",
        "  - No, keywords cannot be used as variable names in Python. They are reserved by the language to define syntax and program structure. Using a keyword as a variable name will result in a syntax error."
      ],
      "metadata": {
        "id": "OYHMRt59U6V-"
      }
    },
    {
      "cell_type": "markdown",
      "source": [
        "**5. What is mutability in Python ?**\n",
        "  - Mutability in Python refers to an object's ability to change its value after creation. Mutable objects, like lists and dictionaries, can be modified in place without changing their identity. Immutable objects, like strings, tuples, and integers, cannot be altered once created—any change creates a new object."
      ],
      "metadata": {
        "id": "P40O06xOWKtu"
      }
    },
    {
      "cell_type": "markdown",
      "source": [
        "**6. Why are lists mutable, but tuples are immutable ?**\n",
        "  - Lists are mutable because they are designed for dynamic data—allowing changes like adding, removing, or modifying elements. This flexibility makes them ideal for situations where the data may change over time.\n",
        "\n",
        "  - Tuples, on the other hand, are immutable by design to ensure data integrity and efficiency. They are used for fixed collections of items, enabling faster performance and safe usage as dictionary keys or in sets due to their unchangeable nature."
      ],
      "metadata": {
        "id": "XrjjyupQWLtk"
      }
    },
    {
      "cell_type": "markdown",
      "source": [
        "**7. What is the difference between “==” and “is” operators in Python ?**\n",
        "  - In Python, == and is are used for different types of comparison:\n",
        "\n",
        "    == (Equality Operator):\n",
        "    Compares values of two objects.\n",
        "\n",
        "    Example:\n",
        "    a = [1, 2]  \n",
        "    b = [1, 2]  \n",
        "    print(a == b)  # True (values are equal)\n",
        "\n",
        "  - is (Identity Operator):\n",
        "    Checks if two variables refer to the same object in memory.\n",
        "\n",
        "    print(a is b)  # False (different objects)\n",
        "    \n",
        "    So, == checks equality, is checks identity."
      ],
      "metadata": {
        "id": "7_6In9a6WL61"
      }
    },
    {
      "cell_type": "markdown",
      "source": [
        "**8. What are logical operators in Python ?**\n",
        "  - Logical operators are used to combine conditional statements. Python has three logical operators:\n",
        "\n",
        "    and – Returns True if both conditions are true.\n",
        "\n",
        "    or – Returns True if at least one condition is true.\n",
        "\n",
        "    not – Reverses the result (True becomes False, and vice versa).\n",
        "\n"
      ],
      "metadata": {
        "id": "HPOhhzJHWMC7"
      }
    },
    {
      "cell_type": "markdown",
      "source": [
        "**9. What is type casting in Python ?**\n",
        "  \n",
        "Type casting is the process of converting one data type into another. Python supports:\n",
        "\n",
        "  - int() – Converts to integer\n",
        "\n",
        "  - float() – Converts to float\n",
        "\n",
        "  - str() – Converts to string"
      ],
      "metadata": {
        "id": "mxNLutVabKb0"
      }
    },
    {
      "cell_type": "markdown",
      "source": [
        "**10. What is the difference between implicit and explicit type casting ?**\n",
        "\n",
        "Implicit type casting is automatically done by Python when combining different data types, such as converting an integer to a float in mixed expressions. Explicit type casting is done manually using functions like int(), float(), or str(). Implicit casting is safe and avoids data loss, while explicit casting gives more control but requires careful use to avoid errors.\n",
        "\n",
        "  - Implicit casting is automatic and safe. Python converts data types when needed.\n",
        "\n",
        "    Example:\n",
        "\n",
        "    a = 5\n",
        "\n",
        "    b = 2.0\n",
        "\n",
        "    c = a + b  (#a is implicitly cast to float)\n",
        "\n",
        "  - Explicit casting is manual, using int(), float(), etc.\n",
        "\n",
        "    Example:\n",
        "\n",
        "    x = \"10\"\n",
        "\n",
        "    y = int(x) (#x is explicitly cast to integer)"
      ],
      "metadata": {
        "id": "uQX2anCIbLMA"
      }
    },
    {
      "cell_type": "markdown",
      "source": [
        "**11. What is the purpose of conditional statements in Python ?**\n",
        "  - Conditional statements in Python control the flow of a program by executing code only when certain conditions are met. They use if, elif, and else to evaluate expressions. If a condition is true, the associated block runs. If false, the program checks the next condition or moves on. This structure allows programs to make decisions, respond dynamically to inputs, and avoid executing unnecessary or irrelevant blocks of code."
      ],
      "metadata": {
        "id": "KFbKo9cYbLXa"
      }
    },
    {
      "cell_type": "markdown",
      "source": [
        "**12. How does the elif statement work ?**\n",
        "  - The elif (short for \"else if\") statement in Python allows checking multiple conditions after an initial if statement. If the if condition is false, Python evaluates the elif condition. If that’s true, its block runs. If not, the process continues through any further elif or else. It simplifies complex decision-making by avoiding nested if structures and helps organize multiple conditional branches in a clean, readable format."
      ],
      "metadata": {
        "id": "81dgfrRKbLf_"
      }
    },
    {
      "cell_type": "markdown",
      "source": [
        "**13. What is the difference between for and while loops ?**\n",
        "  - A for loop iterates over sequences like lists or ranges, ideal when the number of iterations is known. A while loop continues running as long as a given condition is true, making it suitable for uncertain iteration counts.\n",
        "  -  for loops are generally used for counting or iterating fixed elements, while while loops are used when actions depend on a changing condition, such as user inputs."
      ],
      "metadata": {
        "id": "ORKA27SIeBi-"
      }
    },
    {
      "cell_type": "markdown",
      "source": [
        "**14. Describe a scenario where a while loop is more suitable than a for loop.**\n",
        "  - A while loop is more suitable when the number of iterations isn’t known in advance. For example, in a login system, the program should keep prompting the user until a correct password is entered. Since the number of tries can vary, a while loop works better. It continues checking the condition—like a failed login—until it becomes false, providing flexible control over loop termination based on dynamic input.\n",
        "\n",
        "  **Example-**\n",
        "\n",
        "  password = \"\"\n",
        "\n",
        "  while password != \"secret\":\n",
        "\n",
        "  password = input(\"Enter password: \")\n",
        "\n",
        "  Here, the loop runs until the correct password is entered. A for loop wouldn’t work, since the number of tries isn’t known in advance—while gives more flexible control."
      ],
      "metadata": {
        "id": "rFjYwwQ_eByN"
      }
    },
    {
      "cell_type": "markdown",
      "source": [
        "# **PRACTICAL QUESTIONS**"
      ],
      "metadata": {
        "id": "WNaJ9GEMjq6f"
      }
    },
    {
      "cell_type": "markdown",
      "source": [
        "**1. Write a Python program to print \"Hello, World!\"**"
      ],
      "metadata": {
        "id": "Vb9GKEBzqdhA"
      }
    },
    {
      "cell_type": "code",
      "source": [
        "print(\"Hello, World!\")"
      ],
      "metadata": {
        "colab": {
          "base_uri": "https://localhost:8080/"
        },
        "id": "Y5EJLJEhkk9_",
        "outputId": "8d19068e-2707-487a-cb32-bf371ffb7550"
      },
      "execution_count": 1,
      "outputs": [
        {
          "output_type": "stream",
          "name": "stdout",
          "text": [
            "Hello, World!\n"
          ]
        }
      ]
    },
    {
      "cell_type": "markdown",
      "source": [
        "**2. Write a Python program that displays your name and age.**"
      ],
      "metadata": {
        "id": "-gdoeK9xqWBA"
      }
    },
    {
      "cell_type": "code",
      "source": [
        "name = \"Deepanshu Mandwal\"\n",
        "age = 24\n",
        "\n",
        "print(\"My name is\", name)\n",
        "print(\"I am\", age, \"years old\")"
      ],
      "metadata": {
        "colab": {
          "base_uri": "https://localhost:8080/"
        },
        "id": "vsc7dSRnlXe9",
        "outputId": "1f6e080f-d4bf-466d-c2ce-5403277b400b"
      },
      "execution_count": 2,
      "outputs": [
        {
          "output_type": "stream",
          "name": "stdout",
          "text": [
            "My name is Deepanshu Mandwal\n",
            "I am 24 years old\n"
          ]
        }
      ]
    },
    {
      "cell_type": "markdown",
      "source": [
        "**3. Write code to print all the pre-defined keywords in Python using the keyword library.**"
      ],
      "metadata": {
        "id": "BaAC7yPCqPkf"
      }
    },
    {
      "cell_type": "code",
      "source": [
        "import keyword\n",
        "print(\"Python Keywords:\")\n",
        "for kw in keyword.kwlist:\n",
        "    print(kw)"
      ],
      "metadata": {
        "colab": {
          "base_uri": "https://localhost:8080/"
        },
        "id": "UYbT_KhSl-q4",
        "outputId": "00474031-4636-474f-bd37-e1233203e1a1"
      },
      "execution_count": 7,
      "outputs": [
        {
          "output_type": "stream",
          "name": "stdout",
          "text": [
            "Python Keywords:\n",
            "False\n",
            "None\n",
            "True\n",
            "and\n",
            "as\n",
            "assert\n",
            "async\n",
            "await\n",
            "break\n",
            "class\n",
            "continue\n",
            "def\n",
            "del\n",
            "elif\n",
            "else\n",
            "except\n",
            "finally\n",
            "for\n",
            "from\n",
            "global\n",
            "if\n",
            "import\n",
            "in\n",
            "is\n",
            "lambda\n",
            "nonlocal\n",
            "not\n",
            "or\n",
            "pass\n",
            "raise\n",
            "return\n",
            "try\n",
            "while\n",
            "with\n",
            "yield\n"
          ]
        }
      ]
    },
    {
      "cell_type": "markdown",
      "source": [
        "**4. Write a program that checks if a given word is a Python keyword.**"
      ],
      "metadata": {
        "id": "Cewf3kAGqJNt"
      }
    },
    {
      "cell_type": "code",
      "source": [
        "import keyword\n",
        "\n",
        "# Input from user\n",
        "word = input(\"Enter a word: \")\n",
        "\n",
        "# Check if it's a Python keyword\n",
        "if keyword.iskeyword(word):\n",
        "    print(f\"'{word}' is a Python keyword.\")\n",
        "else:\n",
        "    print(f\"'{word}' is NOT a Python keyword.\")"
      ],
      "metadata": {
        "colab": {
          "base_uri": "https://localhost:8080/"
        },
        "id": "dYxKSEiGm7Vt",
        "outputId": "33b50576-d47c-46c5-aa3e-9e83a68201a1"
      },
      "execution_count": 9,
      "outputs": [
        {
          "output_type": "stream",
          "name": "stdout",
          "text": [
            "Enter a word: for\n",
            "'for' is a Python keyword.\n"
          ]
        }
      ]
    },
    {
      "cell_type": "code",
      "source": [
        "# Input from user\n",
        "word = input(\"Enter a word: \")\n",
        "\n",
        "# Check if it's a Python keyword\n",
        "if keyword.iskeyword(word):\n",
        "    print(f\"'{word}' is a Python keyword.\")\n",
        "else:\n",
        "    print(f\"'{word}' is NOT a Python keyword.\")"
      ],
      "metadata": {
        "colab": {
          "base_uri": "https://localhost:8080/"
        },
        "id": "oNdMGnbcnM4V",
        "outputId": "4bd172a9-bb1f-4da6-a5b3-ce4d75608ae6"
      },
      "execution_count": 10,
      "outputs": [
        {
          "output_type": "stream",
          "name": "stdout",
          "text": [
            "Enter a word: Deepanshu\n",
            "'Deepanshu' is NOT a Python keyword.\n"
          ]
        }
      ]
    },
    {
      "cell_type": "markdown",
      "source": [
        "**5. Create a list and tuple in Python, and demonstrate how attempting to change an element works differently for each.**"
      ],
      "metadata": {
        "id": "16t_Vl5lp8gc"
      }
    },
    {
      "cell_type": "code",
      "source": [
        "# Created a list (mutable)\n",
        "my_list = [1, 2, 3]\n",
        "print(\"Original list:\", my_list)\n",
        "\n",
        "# Changed the second element\n",
        "my_list[1] = 20\n",
        "print(\"Modified list:\", my_list)\n",
        "\n",
        "# Created a tuple (immutable)\n",
        "my_tuple = (1, 2, 3)\n",
        "print(\"Original tuple:\", my_tuple)\n",
        "\n",
        "# Attempted to change the second element\n",
        "try:\n",
        "    my_tuple[1] = 20\n",
        "except TypeError as e:\n",
        "    print(\"Error when trying to modify tuple:\", e)"
      ],
      "metadata": {
        "colab": {
          "base_uri": "https://localhost:8080/"
        },
        "id": "2WQ3ALmGoyR7",
        "outputId": "fc4aa5ef-9b0c-479f-b73e-06f48594359c"
      },
      "execution_count": 13,
      "outputs": [
        {
          "output_type": "stream",
          "name": "stdout",
          "text": [
            "Original list: [1, 2, 3]\n",
            "Modified list: [1, 20, 3]\n",
            "Original tuple: (1, 2, 3)\n",
            "Error when trying to modify tuple: 'tuple' object does not support item assignment\n"
          ]
        }
      ]
    },
    {
      "cell_type": "markdown",
      "source": [
        "**6. Write a function to demonstrate the behavior of mutable and immutable arguments.**"
      ],
      "metadata": {
        "id": "HZ7Nf3WDps5_"
      }
    },
    {
      "cell_type": "code",
      "source": [
        "def modify_args(a, b):\n",
        "    #Try to modify both arguments\n",
        "    a += 10\n",
        "    b.append(4)\n",
        "    print(\"Inside function:\")\n",
        "    print(\"a (immutable):\", a)\n",
        "    print(\"b (mutable):\", b)\n",
        "\n",
        "#Immutable argument (integer)\n",
        "x = 5\n",
        "#Mutable argument (list)\n",
        "y = [1, 2, 3]\n",
        "\n",
        "modify_args(x, y)\n",
        "\n",
        "print(\"\\nOutside function:\")\n",
        "print(\"x (immutable):\", x)   #x remains unchanged\n",
        "print(\"y (mutable):\", y)     #y is modified"
      ],
      "metadata": {
        "colab": {
          "base_uri": "https://localhost:8080/"
        },
        "id": "M7xFkhbMoz5o",
        "outputId": "ca706e71-1539-43d1-b523-76e45f3783f0"
      },
      "execution_count": 14,
      "outputs": [
        {
          "output_type": "stream",
          "name": "stdout",
          "text": [
            "Inside function:\n",
            "a (immutable): 15\n",
            "b (mutable): [1, 2, 3, 4]\n",
            "\n",
            "Outside function:\n",
            "x (immutable): 5\n",
            "y (mutable): [1, 2, 3, 4]\n"
          ]
        }
      ]
    },
    {
      "cell_type": "markdown",
      "source": [
        "**7. Write a program that performs basic arithmetic operations on two user-input numbers.**"
      ],
      "metadata": {
        "id": "WcZdUXmptAfz"
      }
    },
    {
      "cell_type": "code",
      "source": [
        "# Get input from the user\n",
        "num1 = float(input(\"Enter first number: \"))\n",
        "num2 = float(input(\"Enter second number: \"))\n",
        "\n",
        "# Perform arithmetic operations\n",
        "print(\"\\nResults:\")\n",
        "print(\"Addition:\", num1 + num2)\n",
        "print(\"Subtraction:\", num1 - num2)\n",
        "print(\"Multiplication:\", num1 * num2)\n",
        "\n",
        "# Check for division by zero\n",
        "if num2 != 0:\n",
        "    print(\"Division:\", num1 / num2)\n",
        "    print(\"Modulus:\", num1 % num2)\n",
        "else:\n",
        "    print(\"Division and Modulus: Cannot divide by zero\")"
      ],
      "metadata": {
        "colab": {
          "base_uri": "https://localhost:8080/"
        },
        "id": "JP3TACAiq0-_",
        "outputId": "cd8ca341-38fd-4fda-dbd4-98aa24e04aa9"
      },
      "execution_count": 15,
      "outputs": [
        {
          "output_type": "stream",
          "name": "stdout",
          "text": [
            "Enter first number: 1\n",
            "Enter second number: 2\n",
            "\n",
            "Results:\n",
            "Addition: 3.0\n",
            "Subtraction: -1.0\n",
            "Multiplication: 2.0\n",
            "Division: 0.5\n",
            "Modulus: 1.0\n"
          ]
        }
      ]
    },
    {
      "cell_type": "markdown",
      "source": [
        "**8. Write a program to demonstrate the use of logical operators.**"
      ],
      "metadata": {
        "id": "RItoNzfltWpC"
      }
    },
    {
      "cell_type": "code",
      "source": [
        "a = int(input(\"Enter a number (a): \"))\n",
        "b = int(input(\"Enter another number (b): \"))\n",
        "\n",
        "print(\"\\nLogical Operator Demonstration:\")\n",
        "\n",
        "#AND operator\n",
        "if a > 0 and b > 0:\n",
        "    print(\"Both numbers are positive (a > 0 and b > 0)\")\n",
        "\n",
        "#OR operator\n",
        "if a > 0 or b > 0:\n",
        "    print(\"At least one number is positive (a > 0 or b > 0)\")\n",
        "\n",
        "#NOT operator\n",
        "if not (a < 0):\n",
        "    print(\"a is not negative (not (a < 0))\")"
      ],
      "metadata": {
        "colab": {
          "base_uri": "https://localhost:8080/"
        },
        "id": "Ddb2yEH_tNNc",
        "outputId": "b42cb60c-d388-426a-853c-c0f9b77ccff6"
      },
      "execution_count": 16,
      "outputs": [
        {
          "output_type": "stream",
          "name": "stdout",
          "text": [
            "Enter a number (a): 5\n",
            "Enter another number (b): 10\n",
            "\n",
            "Logical Operator Demonstration:\n",
            "Both numbers are positive (a > 0 and b > 0)\n",
            "At least one number is positive (a > 0 or b > 0)\n",
            "a is not negative (not (a < 0))\n"
          ]
        }
      ]
    },
    {
      "cell_type": "markdown",
      "source": [
        "**9. Write a Python program to convert user input from string to integer, float, and boolean types.**"
      ],
      "metadata": {
        "id": "q8byE9eet70P"
      }
    },
    {
      "cell_type": "code",
      "source": [
        "user_input = input(\"Enter a value: \")\n",
        "\n",
        "#Convert to integer\n",
        "try:\n",
        "    int_value = int(user_input)\n",
        "    print(\"Integer:\", int_value)\n",
        "except ValueError:\n",
        "    print(\"Cannot convert to Integer\")\n",
        "\n",
        "#Convert to float\n",
        "try:\n",
        "    float_value = float(user_input)\n",
        "    print(\"Float:\", float_value)\n",
        "except ValueError:\n",
        "    print(\"Cannot convert to Float\")\n",
        "\n",
        "#Convert to boolean\n",
        "bool_value = bool(user_input)\n",
        "print(\"Boolean:\", bool_value)"
      ],
      "metadata": {
        "colab": {
          "base_uri": "https://localhost:8080/"
        },
        "id": "9DG-fPfAtrCS",
        "outputId": "70b9a9a7-cf1f-4d22-b1b6-cd322aae6c9e"
      },
      "execution_count": 17,
      "outputs": [
        {
          "output_type": "stream",
          "name": "stdout",
          "text": [
            "Enter a value: 5\n",
            "Integer: 5\n",
            "Float: 5.0\n",
            "Boolean: True\n"
          ]
        }
      ]
    },
    {
      "cell_type": "markdown",
      "source": [
        "**10. Write code to demonstrate type casting with list elements.**"
      ],
      "metadata": {
        "id": "HVGzuxqkuSbn"
      }
    },
    {
      "cell_type": "code",
      "source": [
        "str_list = ['10', '20', '30']\n",
        "int_list = [int(x) for x in str_list]\n",
        "print(\"Integer List:\", int_list)\n",
        "str_from_int = [str(x) for x in int_list]\n",
        "print(\"String List from Integers:\", str_from_int)\n",
        "float_list = [float(x) for x in str_list]\n",
        "print(\"Float List:\", float_list)"
      ],
      "metadata": {
        "colab": {
          "base_uri": "https://localhost:8080/"
        },
        "id": "NFSgYbHluMAp",
        "outputId": "35c97983-4c70-4106-983d-0641c5557532"
      },
      "execution_count": 18,
      "outputs": [
        {
          "output_type": "stream",
          "name": "stdout",
          "text": [
            "Integer List: [10, 20, 30]\n",
            "String List from Integers: ['10', '20', '30']\n",
            "Float List: [10.0, 20.0, 30.0]\n"
          ]
        }
      ]
    },
    {
      "cell_type": "markdown",
      "source": [
        "**11. Write a program that checks if a number is positive, negative, or zero.**"
      ],
      "metadata": {
        "id": "YkUYLaZCurVI"
      }
    },
    {
      "cell_type": "code",
      "source": [
        "num = float(input(\"Enter a number: \"))\n",
        "if num > 0:\n",
        "    print(\"The number is positive.\")\n",
        "elif num < 0:\n",
        "    print(\"The number is negative.\")\n",
        "else:\n",
        "    print(\"The number is zero.\")"
      ],
      "metadata": {
        "colab": {
          "base_uri": "https://localhost:8080/"
        },
        "id": "qSH0KtUaukug",
        "outputId": "8ac63c9a-e1fa-47a6-89ae-0282ecfa5794"
      },
      "execution_count": 19,
      "outputs": [
        {
          "output_type": "stream",
          "name": "stdout",
          "text": [
            "Enter a number: -5\n",
            "The number is negative.\n"
          ]
        }
      ]
    },
    {
      "cell_type": "code",
      "source": [
        "num = float(input(\"Enter a number: \"))\n",
        "if num > 0:\n",
        "    print(\"The number is positive.\")\n",
        "elif num < 0:\n",
        "    print(\"The number is negative.\")\n",
        "else:\n",
        "    print(\"The number is zero.\")"
      ],
      "metadata": {
        "colab": {
          "base_uri": "https://localhost:8080/"
        },
        "id": "JGWnlDiQu4wx",
        "outputId": "2136acbe-cfc3-4a07-ed3b-ae8adbae2644"
      },
      "execution_count": 20,
      "outputs": [
        {
          "output_type": "stream",
          "name": "stdout",
          "text": [
            "Enter a number: 10\n",
            "The number is positive.\n"
          ]
        }
      ]
    },
    {
      "cell_type": "markdown",
      "source": [
        "**12. Write a for loop to print numbers from 1 to 10.**"
      ],
      "metadata": {
        "id": "isHdWvXSvHmx"
      }
    },
    {
      "cell_type": "code",
      "source": [
        "for i in range(1, 11):\n",
        "    print(i)"
      ],
      "metadata": {
        "colab": {
          "base_uri": "https://localhost:8080/"
        },
        "id": "nNP9aQOjvAqZ",
        "outputId": "3fad544f-6681-4838-a309-ef92dfd76ae0"
      },
      "execution_count": 21,
      "outputs": [
        {
          "output_type": "stream",
          "name": "stdout",
          "text": [
            "1\n",
            "2\n",
            "3\n",
            "4\n",
            "5\n",
            "6\n",
            "7\n",
            "8\n",
            "9\n",
            "10\n"
          ]
        }
      ]
    },
    {
      "cell_type": "markdown",
      "source": [
        "**13. Write a Python program to find the sum of all even numbers between 1 and 50.**"
      ],
      "metadata": {
        "id": "y-4phqoMvRn4"
      }
    },
    {
      "cell_type": "code",
      "source": [
        "even_sum = 0\n",
        "#Loop through numbers from 1 to 50\n",
        "for num in range(1, 51):\n",
        "    if num % 2 == 0:\n",
        "        even_sum += num\n",
        "print(\"Sum of even numbers from 1 to 50 is:\", even_sum)"
      ],
      "metadata": {
        "colab": {
          "base_uri": "https://localhost:8080/"
        },
        "id": "Q1hXGJOivQiG",
        "outputId": "9f97e25c-a7c5-4b6f-e858-e7b163370a2f"
      },
      "execution_count": 22,
      "outputs": [
        {
          "output_type": "stream",
          "name": "stdout",
          "text": [
            "Sum of even numbers from 1 to 50 is: 650\n"
          ]
        }
      ]
    },
    {
      "cell_type": "markdown",
      "source": [
        "**14. Write a program to reverse a string using a while loop.**"
      ],
      "metadata": {
        "id": "xnPhYxE1vhBR"
      }
    },
    {
      "cell_type": "code",
      "source": [
        "text = input(\"Enter a string: \")\n",
        "reversed_text = \"\"\n",
        "index = len(text) - 1\n",
        "while index >= 0:\n",
        "    reversed_text += text[index]\n",
        "    index -= 1\n",
        "print(\"Reversed string:\", reversed_text)"
      ],
      "metadata": {
        "colab": {
          "base_uri": "https://localhost:8080/"
        },
        "id": "ayQsSsSUvewq",
        "outputId": "2580bd23-b28a-4d45-ce01-a86282f9e9bd"
      },
      "execution_count": 23,
      "outputs": [
        {
          "output_type": "stream",
          "name": "stdout",
          "text": [
            "Enter a string: Deepanshu\n",
            "Reversed string: uhsnapeeD\n"
          ]
        }
      ]
    },
    {
      "cell_type": "markdown",
      "source": [
        "**15. Write a Python program to calculate the factorial of a number provided by the user using a while loop.**"
      ],
      "metadata": {
        "id": "Jwe083CWwC5l"
      }
    },
    {
      "cell_type": "code",
      "source": [
        "num = int(input(\"Enter a non-negative integer: \"))\n",
        "\n",
        "if num < 0:\n",
        "    print(\"Factorial is not defined for negative numbers.\")\n",
        "else:\n",
        "    factorial = 1\n",
        "    i = 1\n",
        "    while i <= num:\n",
        "        factorial *= i\n",
        "        i += 1\n",
        "    print(f\"Factorial of {num} is: {factorial}\")"
      ],
      "metadata": {
        "colab": {
          "base_uri": "https://localhost:8080/"
        },
        "id": "3duoWzqnv-49",
        "outputId": "c9b872be-868a-4175-aae2-a488105162b6"
      },
      "execution_count": 24,
      "outputs": [
        {
          "output_type": "stream",
          "name": "stdout",
          "text": [
            "Enter a non-negative integer: 3\n",
            "Factorial of 3 is: 6\n"
          ]
        }
      ]
    }
  ]
}